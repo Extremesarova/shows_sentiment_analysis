{
 "cells": [
  {
   "cell_type": "markdown",
   "metadata": {},
   "source": [
    "# Baseline: Logistic Regression + TF-IDF"
   ]
  },
  {
   "cell_type": "markdown",
   "metadata": {},
   "source": [
    "In this notebook I'm going to create a strong baseline model using classic ML algorithms. "
   ]
  },
  {
   "cell_type": "code",
   "execution_count": 1,
   "metadata": {},
   "outputs": [],
   "source": [
    "# !pip install skl2onnx==1.12.0 onnxruntime==1.13.1 protobuf==3.20.1 optuna==3.0.4\n",
    "# !pip install --no-cache-dir git+https://github.com/optuna/optuna"
   ]
  },
  {
   "cell_type": "markdown",
   "metadata": {},
   "source": [
    "## Imports"
   ]
  },
  {
   "cell_type": "code",
   "execution_count": 41,
   "metadata": {},
   "outputs": [],
   "source": [
    "# import nltk\n",
    "# nltk.download(\"stopwords\")"
   ]
  },
  {
   "cell_type": "code",
   "execution_count": 6,
   "metadata": {},
   "outputs": [],
   "source": [
    "import os\n",
    "import gc\n",
    "import gzip\n",
    "import pickle\n",
    "from pathlib import Path\n",
    "import numpy as np\n",
    "from collections import Counter\n",
    "from pprint import pprint"
   ]
  },
  {
   "cell_type": "code",
   "execution_count": 42,
   "metadata": {},
   "outputs": [],
   "source": [
    "import shap\n",
    "from sklearn.model_selection import train_test_split\n",
    "from tqdm import tqdm\n",
    "import optuna\n",
    "import pandas as pd\n",
    "from sklearn.feature_extraction.text import CountVectorizer, TfidfVectorizer\n",
    "from sklearn.linear_model import LogisticRegression, LogisticRegressionCV\n",
    "from sklearn.metrics import f1_score\n",
    "from sklearn.pipeline import Pipeline\n",
    "from sklearn.metrics import confusion_matrix, ConfusionMatrixDisplay\n",
    "from nltk.corpus import stopwords"
   ]
  },
  {
   "cell_type": "code",
   "execution_count": 8,
   "metadata": {},
   "outputs": [],
   "source": [
    "import matplotlib.pyplot as plt\n",
    "\n",
    "%matplotlib inline\n",
    "%config InlineBackend.figure_format='retina'"
   ]
  },
  {
   "cell_type": "markdown",
   "metadata": {},
   "source": [
    "## Parameters"
   ]
  },
  {
   "cell_type": "code",
   "execution_count": 9,
   "metadata": {},
   "outputs": [],
   "source": [
    "SEED = 42"
   ]
  },
  {
   "cell_type": "code",
   "execution_count": 10,
   "metadata": {},
   "outputs": [],
   "source": [
    "F1_AVERAGING = \"macro\"\n",
    "\n",
    "VERSION = \"0.3.0\""
   ]
  },
  {
   "cell_type": "markdown",
   "metadata": {},
   "source": [
    "## Paths"
   ]
  },
  {
   "cell_type": "markdown",
   "metadata": {},
   "source": [
    "### Input"
   ]
  },
  {
   "cell_type": "code",
   "execution_count": 11,
   "metadata": {},
   "outputs": [],
   "source": [
    "RELATIVE_PATH = os.path.join(\"../\", \"data\")"
   ]
  },
  {
   "cell_type": "markdown",
   "metadata": {},
   "source": [
    "### Output"
   ]
  },
  {
   "cell_type": "code",
   "execution_count": 12,
   "metadata": {},
   "outputs": [],
   "source": [
    "SAVED_MODELS_PATH = \"saved_models\"\n",
    "Path(SAVED_MODELS_PATH).mkdir(parents=True, exist_ok=True)"
   ]
  },
  {
   "cell_type": "code",
   "execution_count": 13,
   "metadata": {},
   "outputs": [
    {
     "data": {
      "text/plain": [
       "'saved_models/TfIdfLogRegSentiment_vectorizer_0.3.0.pkl'"
      ]
     },
     "execution_count": 13,
     "metadata": {},
     "output_type": "execute_result"
    }
   ],
   "source": [
    "PICKLE_VECTORIZER_PATH = os.path.join(\n",
    "    SAVED_MODELS_PATH, f\"TfIdfLogRegSentiment_vectorizer_{VERSION}.pkl\"\n",
    ")\n",
    "\n",
    "PICKLE_VECTORIZER_PATH"
   ]
  },
  {
   "cell_type": "code",
   "execution_count": 14,
   "metadata": {},
   "outputs": [
    {
     "data": {
      "text/plain": [
       "'saved_models/TfIdfLogRegSentiment_logreg_0.3.0.pkl'"
      ]
     },
     "execution_count": 14,
     "metadata": {},
     "output_type": "execute_result"
    }
   ],
   "source": [
    "PICKLE_LOGREG_PATH = os.path.join(\n",
    "    SAVED_MODELS_PATH, f\"TfIdfLogRegSentiment_logreg_{VERSION}.pkl\"\n",
    ")\n",
    "\n",
    "PICKLE_LOGREG_PATH"
   ]
  },
  {
   "cell_type": "markdown",
   "metadata": {},
   "source": [
    "## Loading data"
   ]
  },
  {
   "cell_type": "code",
   "execution_count": 15,
   "id": "7dd39187",
   "metadata": {},
   "outputs": [],
   "source": [
    "class_col = \"label\"\n",
    "text_col = \"text\""
   ]
  },
  {
   "cell_type": "code",
   "execution_count": 16,
   "metadata": {},
   "outputs": [
    {
     "name": "stdout",
     "output_type": "stream",
     "text": [
      "<class 'pandas.core.frame.DataFrame'>\n",
      "RangeIndex: 206537 entries, 0 to 206536\n",
      "Data columns (total 3 columns):\n",
      " #   Column  Non-Null Count   Dtype   \n",
      "---  ------  --------------   -----   \n",
      " 0   label   206537 non-null  category\n",
      " 1   text    206537 non-null  object  \n",
      " 2   fold    206537 non-null  object  \n",
      "dtypes: category(1), object(2)\n",
      "memory usage: 3.3+ MB\n"
     ]
    }
   ],
   "source": [
    "reviews = pd.read_parquet(os.path.join(RELATIVE_PATH, \"split_reviews.parquet\"))\n",
    "reviews.info()"
   ]
  },
  {
   "cell_type": "code",
   "execution_count": 17,
   "metadata": {},
   "outputs": [
    {
     "data": {
      "text/plain": [
       "0"
      ]
     },
     "execution_count": 17,
     "metadata": {},
     "output_type": "execute_result"
    }
   ],
   "source": [
    "train = reviews[reviews[\"fold\"] == \"train\"]\n",
    "test = reviews[reviews[\"fold\"] == \"test\"]\n",
    "dev = reviews[reviews[\"fold\"] == \"dev\"]\n",
    "\n",
    "del reviews\n",
    "gc.collect()"
   ]
  },
  {
   "cell_type": "code",
   "execution_count": 18,
   "metadata": {},
   "outputs": [
    {
     "data": {
      "text/plain": [
       "(175556, 15490, 15491, 175556, 15490, 15491)"
      ]
     },
     "execution_count": 18,
     "metadata": {},
     "output_type": "execute_result"
    }
   ],
   "source": [
    "X_train, X_test, X_dev, y_train, y_test, y_dev = (\n",
    "    train[text_col].values.tolist(),\n",
    "    test[text_col].values.tolist(),\n",
    "    dev[text_col].values.tolist(),\n",
    "    train[class_col].values.tolist(),\n",
    "    test[class_col].values.tolist(),\n",
    "    dev[class_col].values.tolist(),\n",
    ")\n",
    "\n",
    "del train, test, dev\n",
    "gc.collect()\n",
    "\n",
    "len(X_train), len(X_test), len(X_dev), len(y_train), len(y_test), len(y_dev)"
   ]
  },
  {
   "attachments": {},
   "cell_type": "markdown",
   "metadata": {},
   "source": [
    "## Evaluation metrics"
   ]
  },
  {
   "cell_type": "code",
   "execution_count": 19,
   "metadata": {},
   "outputs": [
    {
     "name": "stdout",
     "output_type": "stream",
     "text": [
      "Counter({'positive': 0.7202801717181498, 'neutral': 0.15002743617055614, 'negative': 0.12969239211129402})\n"
     ]
    }
   ],
   "source": [
    "target_counts = Counter(y_test + y_dev)\n",
    "\n",
    "total = sum(target_counts.values(), 0.0)\n",
    "for key in target_counts:\n",
    "    target_counts[key] /= total\n",
    "\n",
    "print(target_counts)"
   ]
  },
  {
   "attachments": {},
   "cell_type": "markdown",
   "metadata": {},
   "source": [
    "Taking into account the distribution of the target, I will select the F1-score with macro-averaging, and we will use the F1-score with micro-averaging to illustrate the difference."
   ]
  },
  {
   "cell_type": "markdown",
   "metadata": {},
   "source": [
    "## Investigation"
   ]
  },
  {
   "cell_type": "markdown",
   "metadata": {},
   "source": [
    "For baseline model, I've decided to start with TF-IDF and Logistic Regression."
   ]
  },
  {
   "cell_type": "markdown",
   "metadata": {},
   "source": [
    "### Text Encoding"
   ]
  },
  {
   "cell_type": "markdown",
   "metadata": {},
   "source": [
    "#### Hyperparameter Investigation"
   ]
  },
  {
   "cell_type": "markdown",
   "metadata": {},
   "source": [
    "Instead of using `TfidfVectorizer` to check different hyperparameters it will be faster to use `CountVectorizer`, because it has almost the same hyperparameters."
   ]
  },
  {
   "cell_type": "markdown",
   "metadata": {},
   "source": [
    "##### `lowercase`"
   ]
  },
  {
   "cell_type": "code",
   "execution_count": 15,
   "metadata": {},
   "outputs": [
    {
     "name": "stdout",
     "output_type": "stream",
     "text": [
      "The size of the train dataset is (175556, 767258) with lowercase turned off\n"
     ]
    }
   ],
   "source": [
    "vectorizer = CountVectorizer(lowercase=False)\n",
    "vectors_wo_lowercase = vectorizer.fit_transform(X_train)\n",
    "\n",
    "print(\n",
    "    f\"The size of the train dataset is {vectors_wo_lowercase.shape} with lowercase turned off\"\n",
    ")"
   ]
  },
  {
   "cell_type": "code",
   "execution_count": 16,
   "metadata": {},
   "outputs": [
    {
     "name": "stdout",
     "output_type": "stream",
     "text": [
      "The size of the train dataset is (175556, 653993) with lowercase turned on\n"
     ]
    }
   ],
   "source": [
    "vectorizer = CountVectorizer()\n",
    "vectors_w_lowercase = vectorizer.fit_transform(X_train)\n",
    "\n",
    "print(\n",
    "    f\"The size of the train dataset is {vectors_w_lowercase.shape} with lowercase turned on\"\n",
    ")"
   ]
  },
  {
   "cell_type": "code",
   "execution_count": 17,
   "metadata": {},
   "outputs": [
    {
     "data": {
      "text/plain": [
       "113265"
      ]
     },
     "execution_count": 17,
     "metadata": {},
     "output_type": "execute_result"
    }
   ],
   "source": [
    "vectors_wo_lowercase.shape[1] - vectors_w_lowercase.shape[1]"
   ]
  },
  {
   "cell_type": "markdown",
   "metadata": {},
   "source": [
    "The difference in vocabulary size between cased and uncased models is more than 100 000, so we better stick to lowercase "
   ]
  },
  {
   "cell_type": "markdown",
   "metadata": {},
   "source": [
    "##### `max_df` and `min_df`"
   ]
  },
  {
   "cell_type": "markdown",
   "metadata": {},
   "source": [
    "`min_df` is used for removing terms that appear **too infrequently**. For example:\n",
    "\n",
    " - `min_df = 0.01` means \"ignore terms that appear in **less than 1% of the documents**\".\n",
    " - `min_df = 5` means \"ignore terms that appear in **less than 5 documents**\".  \n",
    " \n",
    "The default `min_df` is `1`, which means \"ignore terms that appear in **less than 1 document**\".  \n",
    "Thus, the default setting does not ignore any terms.\n",
    "\n",
    "`max_df` is used for removing terms that appear **too frequently**, also known as \"corpus-specific stop words\". For example:\n",
    "\n",
    " - `max_df = 0.5` means \"ignore terms that appear in **more than 50% of the documents**\".\n",
    " - `max_df = 25` means \"ignore terms that appear in **more than 25 documents**\".  \n",
    " \n",
    "The default `max_df` is `1.0`, which means \"ignore terms that appear in **more than 100% of the documents**\".  \n",
    "Thus, the default setting does not ignore any terms."
   ]
  },
  {
   "cell_type": "code",
   "execution_count": 18,
   "metadata": {},
   "outputs": [
    {
     "data": {
      "text/plain": [
       "array(['00', '000', '0000', '00000', '000000',\n",
       "       '000000000000000000попкорн000000000000', '000000000000001',\n",
       "       '000000000000на', '00000000000во', '00000000000данной',\n",
       "       '00000000000есть000000000000000',\n",
       "       '00000000000есть000000000000000000', '0000000000жевать',\n",
       "       '0000000000ненавижу00000000', '00000000016', '000000000надо',\n",
       "       '000000000разговаривать0000000000', '00000000визуальная',\n",
       "       '00000001', '00000громко', '00000точек', '00001', '00007', '0001',\n",
       "       '0002', '000доктора', '000какой', '000косметические', '000р',\n",
       "       '000теряются', '001', '002', '003', '00381', '006', '007', '00в',\n",
       "       '00вых', '00м', '00по', '00с', '00х', '00ые', '00ых', '01', '011',\n",
       "       '013', '014', '01минуту', '01ч37мин'], dtype=object)"
      ]
     },
     "execution_count": 18,
     "metadata": {},
     "output_type": "execute_result"
    }
   ],
   "source": [
    "vectorizer.get_feature_names_out()[:50]"
   ]
  },
  {
   "cell_type": "markdown",
   "metadata": {},
   "source": [
    "We can see that if we do not limit the vocabulary, we will have very infrequent words in the corpora, so we better do it.  \n",
    "For that we have to choose the `min_df` and `max_df` thresholds."
   ]
  },
  {
   "cell_type": "code",
   "execution_count": 19,
   "metadata": {},
   "outputs": [
    {
     "data": {
      "text/plain": [
       "(175556, 7)"
      ]
     },
     "execution_count": 19,
     "metadata": {},
     "output_type": "execute_result"
    }
   ],
   "source": [
    "vectorizer = CountVectorizer(min_df=0.8)\n",
    "vectors = vectorizer.fit_transform(X_train)\n",
    "vectors.shape"
   ]
  },
  {
   "cell_type": "code",
   "execution_count": 20,
   "metadata": {},
   "outputs": [
    {
     "data": {
      "text/plain": [
       "array(['как', 'на', 'не', 'но', 'то', 'что', 'это'], dtype=object)"
      ]
     },
     "execution_count": 20,
     "metadata": {},
     "output_type": "execute_result"
    }
   ],
   "source": [
    "vectorizer.get_feature_names_out()"
   ]
  },
  {
   "cell_type": "markdown",
   "metadata": {},
   "source": [
    "These words are in 80% of all reviews, and this is understandable, since these are particles, prepositions and conjunctions."
   ]
  },
  {
   "cell_type": "code",
   "execution_count": 21,
   "metadata": {},
   "outputs": [
    {
     "name": "stdout",
     "output_type": "stream",
     "text": [
      "The size of the train dataset is (175556, 3286) with lowercase turned on and min_df=0.01\n"
     ]
    }
   ],
   "source": [
    "MIN_DF = 0.01\n",
    "vectorizer = CountVectorizer(min_df=MIN_DF)\n",
    "vectors = vectorizer.fit_transform(X_train)\n",
    "\n",
    "print(\n",
    "    f\"The size of the train dataset is {vectors.shape} with lowercase turned on and min_df={MIN_DF}\"\n",
    ")"
   ]
  },
  {
   "cell_type": "code",
   "execution_count": 22,
   "metadata": {},
   "outputs": [
    {
     "data": {
      "text/plain": [
       "array(['10', '100', '11', '12', '13', '15', '16', '18', '20', '2012',\n",
       "       '21', '30', '3d', '40', '50', '60', '70', '80', '90', 'dc',\n",
       "       'marvel', 'of', 'the', 'абсолютно', 'аватар', 'автор', 'автора',\n",
       "       'авторов', 'авторы', 'аж', 'актер', 'актера', 'актерам',\n",
       "       'актерами', 'актерах', 'актеров', 'актером', 'актерская',\n",
       "       'актерский', 'актерского', 'актерской', 'актерскую', 'актеры',\n",
       "       'актриса', 'актрисы', 'актёр', 'актёра', 'актёров', 'актёрская',\n",
       "       'актёрский'], dtype=object)"
      ]
     },
     "execution_count": 22,
     "metadata": {},
     "output_type": "execute_result"
    }
   ],
   "source": [
    "vectorizer.get_feature_names_out()[:50]"
   ]
  },
  {
   "cell_type": "markdown",
   "metadata": {},
   "source": [
    "Now it's much better. We removed unpopular tokens and reduced the vocabulary from ~670K to 3.3K tokens."
   ]
  },
  {
   "cell_type": "code",
   "execution_count": 23,
   "metadata": {},
   "outputs": [
    {
     "name": "stdout",
     "output_type": "stream",
     "text": [
      "The size of the train dataset is (175556, 3283) with lowercase turned on and min_df=0.01 and max_df=0.9\n"
     ]
    }
   ],
   "source": [
    "MIN_DF = 0.01\n",
    "MAX_DF = 0.9\n",
    "\n",
    "vectorizer = CountVectorizer(min_df=MIN_DF, max_df=MAX_DF)\n",
    "vectors = vectorizer.fit_transform(X_train)\n",
    "\n",
    "print(\n",
    "    f\"The size of the train dataset is {vectors.shape} with lowercase turned on and min_df={MIN_DF} and max_df={MAX_DF}\"\n",
    ")"
   ]
  },
  {
   "cell_type": "markdown",
   "metadata": {},
   "source": [
    "I'll leave default value of `max_df` - 1."
   ]
  },
  {
   "cell_type": "markdown",
   "metadata": {},
   "source": [
    "##### `ngram_range`"
   ]
  },
  {
   "cell_type": "markdown",
   "metadata": {},
   "source": [
    "The lower and upper boundary of the range of n-values for different n-grams to be extracted.  \n",
    "All values of n such that min_n ≤ n ≤ max_n will be used.   \n",
    "\n",
    "For example a `ngram_range` of `(1, 1)` means only `unigrams`, `(1, 2)` means `unigrams` and `bigrams`, and `(2, 2)` means only `bigrams`."
   ]
  },
  {
   "cell_type": "code",
   "execution_count": 24,
   "metadata": {},
   "outputs": [
    {
     "name": "stdout",
     "output_type": "stream",
     "text": [
      "The size of the train dataset is (175556, 4624) with lowercase turned on and min_df=0.01 and ngram_range=(1, 2)\n"
     ]
    }
   ],
   "source": [
    "NGRAM_RANGE = (1, 2)\n",
    "MIN_DF = 0.01\n",
    "\n",
    "vectorizer = TfidfVectorizer(ngram_range=NGRAM_RANGE, min_df=MIN_DF)\n",
    "\n",
    "train_vectors = vectorizer.fit_transform(X_train)\n",
    "test_vectors = vectorizer.transform(X_test)\n",
    "dev_vectors = vectorizer.transform(X_dev)\n",
    "\n",
    "print(\n",
    "    f\"The size of the train dataset is {train_vectors.shape} with lowercase turned on and min_df={MIN_DF} and ngram_range={NGRAM_RANGE}\"\n",
    ")"
   ]
  },
  {
   "cell_type": "code",
   "execution_count": 25,
   "metadata": {},
   "outputs": [
    {
     "data": {
      "text/plain": [
       "array(['10', '10 лет', '100', '11', '12', '13', '15', '16', '18', '20',\n",
       "       '2012', '21', '30', '3d', '40', '50', '60', '70', '80', '90', 'dc',\n",
       "       'marvel', 'of', 'the', 'абсолютно', 'абсолютно все',\n",
       "       'абсолютно не', 'аватар', 'автор', 'автора', 'авторов', 'авторы',\n",
       "       'аж', 'актер', 'актера', 'актерам', 'актерами', 'актерах',\n",
       "       'актеров', 'актером', 'актерская', 'актерская игра', 'актерский',\n",
       "       'актерский состав', 'актерского', 'актерской', 'актерской игры',\n",
       "       'актерскую', 'актерскую игру', 'актеры'], dtype=object)"
      ]
     },
     "execution_count": 25,
     "metadata": {},
     "output_type": "execute_result"
    }
   ],
   "source": [
    "vectorizer.get_feature_names_out()[:50]"
   ]
  },
  {
   "cell_type": "markdown",
   "metadata": {},
   "source": [
    "From my experience, usually `(1, 2)` is a good default value for the `ngram_range`. Sometimes `(1, 3)` can be a little bit better."
   ]
  },
  {
   "cell_type": "markdown",
   "metadata": {},
   "source": [
    "### Classification"
   ]
  },
  {
   "cell_type": "markdown",
   "metadata": {},
   "source": [
    "For the base model, I always use logistic regression as a classifier."
   ]
  },
  {
   "cell_type": "code",
   "execution_count": 26,
   "metadata": {},
   "outputs": [
    {
     "data": {
      "text/plain": [
       "LogisticRegression(class_weight='balanced', max_iter=1000, random_state=42,\n",
       "                   solver='saga')"
      ]
     },
     "execution_count": 26,
     "metadata": {},
     "output_type": "execute_result"
    }
   ],
   "source": [
    "log_reg = LogisticRegression(\n",
    "    random_state=SEED, class_weight=\"balanced\", solver=\"saga\", max_iter=1_000\n",
    ")\n",
    "log_reg.fit(train_vectors, y_train)"
   ]
  },
  {
   "cell_type": "code",
   "execution_count": 27,
   "metadata": {},
   "outputs": [
    {
     "name": "stdout",
     "output_type": "stream",
     "text": [
      "F1 score with micro-averaging is 0.72584\n",
      "F1 score with macro-averaging is 0.62215\n"
     ]
    }
   ],
   "source": [
    "pred_labels = log_reg.predict(dev_vectors)\n",
    "f1_micro = f1_score(y_dev, pred_labels, average=\"micro\")\n",
    "f1_macro = f1_score(y_dev, pred_labels, average=\"macro\")\n",
    "\n",
    "print(f\"F1 score with micro-averaging is {f1_micro.round(5)}\")\n",
    "print(f\"F1 score with macro-averaging is {f1_macro.round(5)}\")"
   ]
  },
  {
   "cell_type": "code",
   "execution_count": 28,
   "metadata": {},
   "outputs": [
    {
     "data": {
      "text/plain": [
       "<sklearn.metrics._plot.confusion_matrix.ConfusionMatrixDisplay at 0x7f4470075eb0>"
      ]
     },
     "execution_count": 28,
     "metadata": {},
     "output_type": "execute_result"
    },
    {
     "data": {
      "image/png": "[encoded data removed]",
      "text/plain": [
       "<Figure size 640x480 with 2 Axes>"
      ]
     },
     "metadata": {
      "image/png": {
       "height": 432,
       "width": 554
      }
     },
     "output_type": "display_data"
    }
   ],
   "source": [
    "cm = confusion_matrix(y_dev, pred_labels, labels=log_reg.classes_, normalize=\"true\")\n",
    "disp = ConfusionMatrixDisplay(confusion_matrix=cm, display_labels=log_reg.classes_)\n",
    "\n",
    "disp.plot()"
   ]
  },
  {
   "cell_type": "markdown",
   "metadata": {},
   "source": [
    "### Hyperparameter Tuning"
   ]
  },
  {
   "cell_type": "markdown",
   "metadata": {},
   "source": [
    "For Logistic Regression we can tune the regularization strength (`C`), `solver` and `penalty` type.  \n",
    "In this notebook, I will only tune the first one using Optuna.\n",
    "\n",
    "For TF-IDF ..."
   ]
  },
  {
   "cell_type": "code",
   "execution_count": null,
   "metadata": {},
   "outputs": [],
   "source": [
    "stopwords_to_remove = [\"\"]"
   ]
  },
  {
   "cell_type": "code",
   "execution_count": 45,
   "metadata": {},
   "outputs": [
    {
     "data": {
      "text/plain": [
       "['и',\n",
       " 'как',\n",
       " 'к',\n",
       " 'было',\n",
       " 'когда',\n",
       " 'был',\n",
       " 'потом',\n",
       " 'ней',\n",
       " 'будто',\n",
       " 'этот',\n",
       " 'почти',\n",
       " 'никогда',\n",
       " 'больше',\n",
       " 'разве',\n",
       " 'лучше',\n",
       " 'между']"
      ]
     },
     "execution_count": 45,
     "metadata": {},
     "output_type": "execute_result"
    }
   ],
   "source": [
    "russian_stopwords = stopwords.words(\"russian\")\n",
    "russian_stopwords[::10]"
   ]
  },
  {
   "cell_type": "code",
   "execution_count": 50,
   "metadata": {},
   "outputs": [
    {
     "name": "stdout",
     "output_type": "stream",
     "text": [
      "['и', 'в', 'во', 'не', 'что', 'он', 'на', 'я', 'с', 'со', 'как', 'а', 'то', 'все', 'она', 'так', 'его', 'но', 'да', 'ты', 'к', 'у', 'же', 'вы', 'за', 'бы', 'по', 'только', 'ее', 'мне', 'было', 'вот', 'от', 'меня', 'еще', 'нет', 'о', 'из', 'ему', 'теперь', 'когда', 'даже', 'ну', 'вдруг', 'ли', 'если', 'уже', 'или', 'ни', 'быть', 'был', 'него', 'до', 'вас', 'нибудь', 'опять', 'уж', 'вам', 'ведь', 'там', 'потом', 'себя', 'ничего', 'ей', 'может', 'они', 'тут', 'где', 'есть', 'надо', 'ней', 'для', 'мы', 'тебя', 'их', 'чем', 'была', 'сам', 'чтоб', 'без', 'будто', 'чего', 'раз', 'тоже', 'себе', 'под', 'будет', 'ж', 'тогда', 'кто', 'этот', 'того', 'потому', 'этого', 'какой', 'совсем', 'ним', 'здесь', 'этом', 'один', 'почти', 'мой', 'тем', 'чтобы', 'нее', 'сейчас', 'были', 'куда', 'зачем', 'всех', 'никогда', 'можно', 'при', 'наконец', 'два', 'об', 'другой', 'хоть', 'после', 'над', 'больше', 'тот', 'через', 'эти', 'нас', 'про', 'всего', 'них', 'какая', 'много', 'разве', 'три', 'эту', 'моя', 'впрочем', 'хорошо', 'свою', 'этой', 'перед', 'иногда', 'лучше', 'чуть', 'том', 'нельзя', 'такой', 'им', 'более', 'всегда', 'конечно', 'всю', 'между']\n"
     ]
    }
   ],
   "source": [
    "print(russian_stopwords)"
   ]
  },
  {
   "cell_type": "code",
   "execution_count": 37,
   "metadata": {},
   "outputs": [
    {
     "name": "stderr",
     "output_type": "stream",
     "text": [
      "Choices for a categorical distribution should be a tuple of None, bool, int, float and str for persistent storage but contains (1, 1) which is of type tuple.\n",
      "Choices for a categorical distribution should be a tuple of None, bool, int, float and str for persistent storage but contains (1, 2) which is of type tuple.\n",
      "Choices for a categorical distribution should be a tuple of None, bool, int, float and str for persistent storage but contains (1, 3) which is of type tuple.\n"
     ]
    }
   ],
   "source": [
    "distributions = {\n",
    "    \"ngram_range\": optuna.distributions.CategoricalDistribution(\n",
    "        choices=((1, 1), (1, 2), (1, 3))\n",
    "    ),\n",
    "    \"min_df\": optuna.distributions.IntDistribution(low=5, high=10),\n",
    "    \"lowercase\": optuna.distributions.CategoricalDistribution(choices=(True, False))\n",
    "}"
   ]
  },
  {
   "cell_type": "markdown",
   "metadata": {},
   "source": [
    "For hyperparameter tuning we will use only a fraction of the train data to speed up the process."
   ]
  },
  {
   "cell_type": "code",
   "execution_count": 34,
   "metadata": {},
   "outputs": [
    {
     "data": {
      "text/plain": [
       "17555"
      ]
     },
     "execution_count": 34,
     "metadata": {},
     "output_type": "execute_result"
    }
   ],
   "source": [
    "X_train_hyper, _, y_train_hyper, _ = train_test_split(\n",
    "    X_train, y_train, test_size=0.9, random_state=SEED\n",
    ")\n",
    "\n",
    "len(X_train_hyper)"
   ]
  },
  {
   "cell_type": "code",
   "execution_count": 35,
   "metadata": {},
   "outputs": [
    {
     "name": "stderr",
     "output_type": "stream",
     "text": [
      "[I 2024-02-02 10:14:50,240] A new study created in memory with name: no-name-35d394f8-ad23-4cb0-b5a6-ebbc7896d788\n"
     ]
    }
   ],
   "source": [
    "study = optuna.create_study(direction=\"maximize\")\n",
    "n_trials = 20"
   ]
  },
  {
   "cell_type": "code",
   "execution_count": 36,
   "metadata": {},
   "outputs": [
    {
     "name": "stderr",
     "output_type": "stream",
     "text": [
      "  0%|          | 0/20 [06:39<?, ?it/s]\n"
     ]
    },
    {
     "ename": "NameError",
     "evalue": "name 'log_reg' is not defined",
     "output_type": "error",
     "traceback": [
      "\u001b[0;31m---------------------------------------------------------------------------\u001b[0m",
      "\u001b[0;31mNameError\u001b[0m                                 Traceback (most recent call last)",
      "Cell \u001b[0;32mIn[36], line 22\u001b[0m\n\u001b[1;32m     13\u001b[0m clf \u001b[38;5;241m=\u001b[39m LogisticRegressionCV(\n\u001b[1;32m     14\u001b[0m     cv\u001b[38;5;241m=\u001b[39m\u001b[38;5;241m5\u001b[39m,\n\u001b[1;32m     15\u001b[0m     solver\u001b[38;5;241m=\u001b[39m\u001b[38;5;124m\"\u001b[39m\u001b[38;5;124msaga\u001b[39m\u001b[38;5;124m\"\u001b[39m,\n\u001b[0;32m   (...)\u001b[0m\n\u001b[1;32m     18\u001b[0m     random_state\u001b[38;5;241m=\u001b[39mSEED,\n\u001b[1;32m     19\u001b[0m )\n\u001b[1;32m     20\u001b[0m clf\u001b[38;5;241m.\u001b[39mfit(train_vectors, y_train_hyper)\n\u001b[0;32m---> 22\u001b[0m pred_labels \u001b[38;5;241m=\u001b[39m \u001b[43mlog_reg\u001b[49m\u001b[38;5;241m.\u001b[39mpredict(dev_vectors)\n\u001b[1;32m     23\u001b[0m f1 \u001b[38;5;241m=\u001b[39m f1_score(y_dev, pred_labels, average\u001b[38;5;241m=\u001b[39mF1_AVERAGING)\n\u001b[1;32m     25\u001b[0m study\u001b[38;5;241m.\u001b[39mtell(trial, f1)\n",
      "\u001b[0;31mNameError\u001b[0m: name 'log_reg' is not defined"
     ]
    }
   ],
   "source": [
    "for _ in tqdm(range(n_trials)):\n",
    "    trial = study.ask(distributions)\n",
    "\n",
    "    vectorizer_params = {\n",
    "        \"min_df\": trial.params[\"min_df\"],\n",
    "        \"ngram_range\": trial.params[\"ngram_range\"],\n",
    "        \"lowercase\": trial.params[\"lowercase\"]\n",
    "    }\n",
    "\n",
    "    review_vectorizer = TfidfVectorizer(**vectorizer_params)\n",
    "    train_vectors = review_vectorizer.fit_transform(X_train_hyper)\n",
    "\n",
    "    clf = LogisticRegressionCV(\n",
    "        cv=5,\n",
    "        solver=\"saga\",\n",
    "        class_weight=\"balanced\",\n",
    "        max_iter=1_000,\n",
    "        random_state=SEED,\n",
    "    )\n",
    "    clf.fit(train_vectors, y_train_hyper)\n",
    "\n",
    "    pred_labels = clf.predict(dev_vectors)\n",
    "    f1 = f1_score(y_dev, pred_labels, average=F1_AVERAGING)\n",
    "\n",
    "    study.tell(trial, f1)"
   ]
  },
  {
   "cell_type": "code",
   "execution_count": null,
   "metadata": {},
   "outputs": [
    {
     "data": {
      "text/plain": [
       "({'C': 6.910877670014768e-06}, 0.6221531301627613)"
      ]
     },
     "execution_count": 31,
     "metadata": {},
     "output_type": "execute_result"
    }
   ],
   "source": [
    "study.best_params, study.best_value"
   ]
  },
  {
   "cell_type": "markdown",
   "metadata": {},
   "source": [
    "Let's now make a simple pipeline with two components: `TfidfVectorizer` and `LogisticRegression` to save model in one file."
   ]
  },
  {
   "cell_type": "markdown",
   "metadata": {},
   "source": [
    "## Modelling"
   ]
  },
  {
   "cell_type": "markdown",
   "metadata": {},
   "source": [
    "### Vectorizing reviews with TF-IDF"
   ]
  },
  {
   "cell_type": "markdown",
   "metadata": {},
   "source": [
    "#### Train"
   ]
  },
  {
   "cell_type": "code",
   "execution_count": 25,
   "metadata": {},
   "outputs": [],
   "source": [
    "vectorizer_params = {\n",
    "    # \"min_df\": 0.01,\n",
    "    \"ngram_range\": (1, 3),\n",
    "    \"max_features\": 100_000,\n",
    "}\n",
    "\n",
    "review_vectorizer = TfidfVectorizer(**vectorizer_params)"
   ]
  },
  {
   "cell_type": "code",
   "execution_count": null,
   "metadata": {},
   "outputs": [],
   "source": [
    "review_vectorizer.fit_transform(X_train)"
   ]
  },
  {
   "cell_type": "markdown",
   "metadata": {},
   "source": [
    "#### Save"
   ]
  },
  {
   "cell_type": "code",
   "execution_count": 41,
   "metadata": {},
   "outputs": [],
   "source": [
    "with gzip.open(PICKLE_VECTORIZER_PATH, \"wb\") as f:\n",
    "    pickle.dump(review_vectorizer, f)"
   ]
  },
  {
   "cell_type": "markdown",
   "metadata": {},
   "source": [
    "#### Load"
   ]
  },
  {
   "cell_type": "code",
   "execution_count": 14,
   "metadata": {},
   "outputs": [],
   "source": [
    "with gzip.open(PICKLE_VECTORIZER_PATH, \"rb\") as f:\n",
    "    review_vectorizer = pickle.load(f)"
   ]
  },
  {
   "cell_type": "markdown",
   "metadata": {},
   "source": [
    "#### Transform"
   ]
  },
  {
   "cell_type": "code",
   "execution_count": 15,
   "metadata": {},
   "outputs": [],
   "source": [
    "train_vectors = review_vectorizer.transform(X_train)"
   ]
  },
  {
   "cell_type": "markdown",
   "metadata": {},
   "source": [
    "### Classifying reviews with Logistic Regression"
   ]
  },
  {
   "cell_type": "markdown",
   "metadata": {},
   "source": [
    "#### Train"
   ]
  },
  {
   "cell_type": "code",
   "execution_count": 16,
   "metadata": {},
   "outputs": [],
   "source": [
    "log_reg = LogisticRegression(\n",
    "    # C=1,\n",
    "    penalty=\"l1\",\n",
    "    random_state=SEED,\n",
    "    solver=\"saga\",\n",
    "    max_iter=5000,\n",
    "    class_weight=\"balanced\",\n",
    "    verbose=1,\n",
    ")"
   ]
  },
  {
   "cell_type": "code",
   "execution_count": 17,
   "metadata": {},
   "outputs": [
    {
     "name": "stdout",
     "output_type": "stream",
     "text": [
      "Epoch 1, change: 1.00000000\n",
      "Epoch 2, change: 0.39796686\n",
      "Epoch 3, change: 0.20255005\n",
      "Epoch 4, change: 0.17754637\n",
      "Epoch 5, change: 0.14364051\n",
      "Epoch 6, change: 0.14873144\n",
      "Epoch 7, change: 0.11509555\n",
      "Epoch 8, change: 0.11013361\n",
      "Epoch 9, change: 0.13738366\n",
      "Epoch 10, change: 0.10921248\n",
      "Epoch 11, change: 0.09994089\n",
      "Epoch 12, change: 0.10122932\n",
      "Epoch 13, change: 0.09576989\n",
      "Epoch 14, change: 0.09133063\n",
      "Epoch 15, change: 0.08457056\n",
      "Epoch 16, change: 0.09801357\n",
      "Epoch 17, change: 0.09413728\n",
      "Epoch 18, change: 0.10664590\n",
      "Epoch 19, change: 0.09308614\n",
      "Epoch 20, change: 0.08456965\n",
      "Epoch 21, change: 0.08676320\n",
      "Epoch 22, change: 0.07986458\n",
      "Epoch 23, change: 0.08511756\n",
      "Epoch 24, change: 0.08233221\n",
      "Epoch 25, change: 0.07404686\n",
      "Epoch 26, change: 0.08959467\n",
      "Epoch 27, change: 0.08866488\n",
      "Epoch 28, change: 0.07374409\n",
      "Epoch 29, change: 0.07365152\n",
      "Epoch 30, change: 0.07140203\n",
      "Epoch 31, change: 0.06406793\n",
      "Epoch 32, change: 0.07518060\n",
      "Epoch 33, change: 0.06779344\n",
      "Epoch 34, change: 0.07569979\n",
      "Epoch 35, change: 0.08292628\n",
      "Epoch 36, change: 0.08260780\n",
      "Epoch 37, change: 0.07649418\n",
      "Epoch 38, change: 0.09436203\n",
      "Epoch 39, change: 0.06909253\n",
      "Epoch 40, change: 0.06590967\n",
      "Epoch 41, change: 0.06498440\n",
      "Epoch 42, change: 0.06828371\n",
      "Epoch 43, change: 0.07571913\n",
      "Epoch 44, change: 0.08537447\n",
      "Epoch 45, change: 0.08492127\n",
      "Epoch 46, change: 0.06482668\n",
      "Epoch 47, change: 0.06684211\n",
      "Epoch 48, change: 0.06520719\n",
      "Epoch 49, change: 0.06384806\n",
      "Epoch 50, change: 0.07416447\n",
      "Epoch 51, change: 0.06641161\n",
      "Epoch 52, change: 0.07465886\n",
      "Epoch 53, change: 0.06819478\n",
      "Epoch 54, change: 0.06930039\n",
      "Epoch 55, change: 0.08391223\n",
      "Epoch 56, change: 0.07944955\n",
      "Epoch 57, change: 0.07718709\n",
      "Epoch 58, change: 0.07960433\n",
      "Epoch 59, change: 0.06913726\n",
      "Epoch 60, change: 0.06370072\n",
      "Epoch 61, change: 0.06364291\n",
      "Epoch 62, change: 0.07555529\n",
      "Epoch 63, change: 0.06368038\n",
      "Epoch 64, change: 0.07445244\n",
      "Epoch 65, change: 0.05935139\n",
      "Epoch 66, change: 0.07016911\n",
      "Epoch 67, change: 0.05881252\n",
      "Epoch 68, change: 0.06760146\n",
      "Epoch 69, change: 0.06297788\n",
      "Epoch 70, change: 0.06209582\n",
      "Epoch 71, change: 0.07216041\n",
      "Epoch 72, change: 0.06093156\n",
      "Epoch 73, change: 0.06691378\n",
      "Epoch 74, change: 0.07375567\n",
      "Epoch 75, change: 0.05928715\n",
      "Epoch 76, change: 0.06948458\n",
      "Epoch 77, change: 0.06233360\n",
      "Epoch 78, change: 0.06431897\n",
      "Epoch 79, change: 0.05728465\n",
      "Epoch 80, change: 0.06821670\n",
      "Epoch 81, change: 0.06661339\n",
      "Epoch 82, change: 0.06100475\n",
      "Epoch 83, change: 0.05831893\n",
      "Epoch 84, change: 0.05983541\n",
      "Epoch 85, change: 0.07530546\n",
      "Epoch 86, change: 0.06835775\n",
      "Epoch 87, change: 0.06160546\n",
      "Epoch 88, change: 0.06941089\n",
      "Epoch 89, change: 0.06137970\n",
      "Epoch 90, change: 0.07259282\n",
      "Epoch 91, change: 0.06056315\n",
      "Epoch 92, change: 0.06489010\n",
      "Epoch 93, change: 0.07738329\n",
      "Epoch 94, change: 0.07210819\n",
      "Epoch 95, change: 0.06057977\n",
      "Epoch 96, change: 0.06383091\n",
      "Epoch 97, change: 0.06473465\n",
      "Epoch 98, change: 0.06305179\n",
      "Epoch 99, change: 0.07323283\n",
      "Epoch 100, change: 0.06750165\n",
      "Epoch 101, change: 0.06555059\n",
      "Epoch 102, change: 0.06417366\n",
      "Epoch 103, change: 0.06191906\n",
      "Epoch 104, change: 0.05852938\n",
      "Epoch 105, change: 0.06667309\n",
      "Epoch 106, change: 0.06452370\n",
      "Epoch 107, change: 0.07136890\n",
      "Epoch 108, change: 0.07504980\n",
      "Epoch 109, change: 0.07136306\n",
      "Epoch 110, change: 0.06188086\n",
      "Epoch 111, change: 0.06544920\n",
      "Epoch 112, change: 0.06349660\n",
      "Epoch 113, change: 0.06671806\n",
      "Epoch 114, change: 0.05923424\n",
      "Epoch 115, change: 0.07772511\n",
      "Epoch 116, change: 0.06439416\n",
      "Epoch 117, change: 0.06358830\n"
     ]
    }
   ],
   "source": [
    "log_reg.fit(train_vectors, y_train)"
   ]
  },
  {
   "cell_type": "markdown",
   "metadata": {},
   "source": [
    "#### Save"
   ]
  },
  {
   "cell_type": "code",
   "execution_count": null,
   "metadata": {},
   "outputs": [],
   "source": [
    "with gzip.open(PICKLE_LOGREG_PATH, \"wb\") as f:\n",
    "    pickle.dump(log_reg, f)"
   ]
  },
  {
   "cell_type": "markdown",
   "metadata": {},
   "source": [
    "#### Load"
   ]
  },
  {
   "cell_type": "code",
   "execution_count": null,
   "metadata": {},
   "outputs": [],
   "source": [
    "with gzip.open(PICKLE_LOGREG_PATH, \"rb\") as f:\n",
    "    log_reg = pickle.load(f)"
   ]
  },
  {
   "cell_type": "markdown",
   "metadata": {},
   "source": [
    "### Evaluation"
   ]
  },
  {
   "cell_type": "code",
   "execution_count": 23,
   "metadata": {},
   "outputs": [],
   "source": [
    "test_vectors = review_vectorizer.transform(X_test)\n",
    "# dev_vectors = review_vectorizer.transform(X_dev)"
   ]
  },
  {
   "cell_type": "code",
   "execution_count": 24,
   "metadata": {},
   "outputs": [
    {
     "name": "stdout",
     "output_type": "stream",
     "text": [
      "F1 score with macro-averaging is 0.65248\n"
     ]
    }
   ],
   "source": [
    "pred_labels = log_reg.predict(test_vectors)\n",
    "f1 = f1_score(y_test, pred_labels, average=F1_AVERAGING)\n",
    "\n",
    "print(f\"F1 score with {F1_AVERAGING}-averaging is {f1.round(5)}\")"
   ]
  },
  {
   "cell_type": "markdown",
   "metadata": {},
   "source": [
    "Now we have our pipeline and we can save it.  \n",
    "We have several choices: ONNX, joblib, pickle."
   ]
  },
  {
   "attachments": {},
   "cell_type": "markdown",
   "metadata": {},
   "source": [
    "## Error analysis"
   ]
  },
  {
   "cell_type": "markdown",
   "metadata": {},
   "source": [
    "### Loading Models"
   ]
  },
  {
   "cell_type": "code",
   "execution_count": null,
   "metadata": {},
   "outputs": [],
   "source": [
    "with gzip.open(PICKLE_LOGREG_PATH, \"rb\") as f:\n",
    "    log_reg = pickle.load(f)"
   ]
  },
  {
   "cell_type": "markdown",
   "metadata": {},
   "source": [
    "### Making Predictions"
   ]
  },
  {
   "cell_type": "code",
   "execution_count": 15,
   "metadata": {},
   "outputs": [
    {
     "name": "stdout",
     "output_type": "stream",
     "text": [
      "F1 score with macro-averaging is 0.65308\n"
     ]
    }
   ],
   "source": [
    "pred_labels = pipe.predict(X_test)\n",
    "f1_loaded = f1_score(y_test, pred_labels, average=F1_AVERAGING)\n",
    "\n",
    "print(f\"F1 score with {F1_AVERAGING}-averaging is {f1_loaded.round(5)}\")"
   ]
  },
  {
   "cell_type": "markdown",
   "metadata": {},
   "source": [
    "### Confusion Matrices"
   ]
  },
  {
   "cell_type": "code",
   "execution_count": 16,
   "metadata": {},
   "outputs": [
    {
     "data": {
      "text/plain": [
       "<sklearn.metrics._plot.confusion_matrix.ConfusionMatrixDisplay at 0x177e46a30>"
      ]
     },
     "execution_count": 16,
     "metadata": {},
     "output_type": "execute_result"
    },
    {
     "data": {
      "image/png": "[encoded data removed]",
      "text/plain": [
       "<Figure size 640x480 with 2 Axes>"
      ]
     },
     "metadata": {
      "image/png": {
       "height": 432,
       "width": 567
      }
     },
     "output_type": "display_data"
    }
   ],
   "source": [
    "cm = confusion_matrix(y_test, pred_labels, labels=pipe.classes_)\n",
    "disp = ConfusionMatrixDisplay(confusion_matrix=cm, display_labels=pipe.classes_)\n",
    "\n",
    "disp.plot()"
   ]
  },
  {
   "cell_type": "code",
   "execution_count": 17,
   "metadata": {},
   "outputs": [
    {
     "data": {
      "text/plain": [
       "<sklearn.metrics._plot.confusion_matrix.ConfusionMatrixDisplay at 0x2b92c6910>"
      ]
     },
     "execution_count": 17,
     "metadata": {},
     "output_type": "execute_result"
    },
    {
     "data": {
      "image/png": "[encoded data removed]",
      "text/plain": [
       "<Figure size 640x480 with 2 Axes>"
      ]
     },
     "metadata": {
      "image/png": {
       "height": 432,
       "width": 554
      }
     },
     "output_type": "display_data"
    }
   ],
   "source": [
    "cm = confusion_matrix(y_test, pred_labels, labels=pipe.classes_, normalize=\"true\")\n",
    "disp = ConfusionMatrixDisplay(confusion_matrix=cm, display_labels=pipe.classes_)\n",
    "\n",
    "disp.plot()"
   ]
  },
  {
   "attachments": {},
   "cell_type": "markdown",
   "metadata": {},
   "source": [
    "- The most problematic class is *neutral*. It can be easily be mistaken for negative (29% objects) and positive (33% objects) classes. \n",
    "- 15% of negative labels were predicted as neutral. \n",
    "- 9% of positive labels were predicted as neutral. "
   ]
  },
  {
   "cell_type": "markdown",
   "metadata": {},
   "source": [
    "### Looking at the errors"
   ]
  },
  {
   "cell_type": "markdown",
   "metadata": {},
   "source": [
    "Let's look not only at the predicted labels, but also at the probabilities.  \n",
    "\n",
    "For that we will use `predict_proba` method:"
   ]
  },
  {
   "cell_type": "code",
   "execution_count": 18,
   "metadata": {},
   "outputs": [
    {
     "data": {
      "text/plain": [
       "array([[0.13586208, 0.25573678, 0.60840114],\n",
       "       [0.06425165, 0.26806429, 0.66768406],\n",
       "       [0.41113839, 0.16044847, 0.42841314],\n",
       "       ...,\n",
       "       [0.23929967, 0.33224083, 0.4284595 ],\n",
       "       [0.01366047, 0.10231875, 0.88402078],\n",
       "       [0.85966708, 0.12172115, 0.01861177]])"
      ]
     },
     "execution_count": 18,
     "metadata": {},
     "output_type": "execute_result"
    }
   ],
   "source": [
    "pred_proba = pipe.predict_proba(X_test)\n",
    "\n",
    "pred_proba"
   ]
  },
  {
   "cell_type": "markdown",
   "metadata": {},
   "source": [
    "To determine the order of the classes we will use `classes_` attribute:"
   ]
  },
  {
   "cell_type": "code",
   "execution_count": 19,
   "metadata": {},
   "outputs": [
    {
     "data": {
      "text/plain": [
       "array(['negative', 'neutral', 'positive'], dtype='<U8')"
      ]
     },
     "execution_count": 19,
     "metadata": {},
     "output_type": "execute_result"
    }
   ],
   "source": [
    "pipe.classes_"
   ]
  },
  {
   "cell_type": "markdown",
   "metadata": {},
   "source": [
    "Now it's time to merge `pred_proba` and `pipe.classes_` for better readability:"
   ]
  },
  {
   "cell_type": "code",
   "execution_count": 20,
   "metadata": {},
   "outputs": [
    {
     "data": {
      "text/plain": [
       "[{'negative': 0.1358620779857563,\n",
       "  'neutral': 0.25573678293134106,\n",
       "  'positive': 0.6084011390829027},\n",
       " {'negative': 0.06425165370383355,\n",
       "  'neutral': 0.26806429058615266,\n",
       "  'positive': 0.6676840557100138},\n",
       " {'negative': 0.4111383876459033,\n",
       "  'neutral': 0.16044847366747364,\n",
       "  'positive': 0.42841313868662306}]"
      ]
     },
     "execution_count": 20,
     "metadata": {},
     "output_type": "execute_result"
    }
   ],
   "source": [
    "y_pred = [dict(zip(pipe.classes_, pred)) for pred in pred_proba]\n",
    "y_pred[0:3]"
   ]
  },
  {
   "cell_type": "markdown",
   "metadata": {},
   "source": [
    "Let's determine the indices of our errors:"
   ]
  },
  {
   "cell_type": "code",
   "execution_count": 21,
   "metadata": {},
   "outputs": [
    {
     "data": {
      "text/plain": [
       "array([    6,    11,    16, ..., 15479, 15482, 15484])"
      ]
     },
     "execution_count": 21,
     "metadata": {},
     "output_type": "execute_result"
    }
   ],
   "source": [
    "error_indices = np.where((y_test != pred_labels).astype(int) == 1)[0]\n",
    "error_indices"
   ]
  },
  {
   "cell_type": "markdown",
   "metadata": {},
   "source": [
    "Looking at the errors:"
   ]
  },
  {
   "cell_type": "code",
   "execution_count": 22,
   "metadata": {},
   "outputs": [
    {
     "name": "stdout",
     "output_type": "stream",
     "text": [
      "Actual label: neutral\n",
      "Predicted label: negative\n",
      "Probabilities :{'negative': 0.7628465392601909, 'neutral': 0.19242844458829406, 'positive': 0.04472501615151515}\n",
      "\n",
      "('Говорят, опытный читатель может раскрыть загадку преступления ещё в первой главе, но дело здесь, увы, не в гениальности любителя мягкопереплетной желтой '\n",
      " 'прессы, а в посредственности писак. Современные детективы я не люблю, по привычке предпочитая им Шерлока Холмса и Агату Кристи. Не так давно мне выдалось '\n",
      " \"посмотреть экранизацию одного мирового бестселлера. По крайней мере, в афише 'Девушка с татуировкой дракона' была обозначена именно так. Трагедия семьи \"\n",
      " 'Вангер заинтересовала меня, но в общем фильм показался серым, грязным мотанием пленки на 2 часа и 40 минут, с огромным количеством ненужных подробностей и '\n",
      " 'жестких сцен. Словом, сценарий был написан не слишком удачно. Картину не спас и звездный состав, хотя Руни Мара довольно-таки сносно влилась в образ Лисбет '\n",
      " '(разве что бровей добавить), тогда как Дэниэл Крэйг не вдохновил совершенно. Да и хвалеными вступительными титрами я не прониклась. Честно сказать, '\n",
      " 'прочтением модных книжонок я никогда не увлекалась, но тут подумала - а почему бы нет? И быстренько скачала себе на книжку Стига Ларссона, причем '\n",
      " \"обнаружила, что кроме 'Девушки с татуировкой дракона' существуют 'Девушка, которая играла с огнем' и 'Девушка, которая взрывала воздушные замки'. Есть о чем \"\n",
      " 'подумать, как считаете? Диагноз таков: смотреть фильм я бы советовала при обилии свободного времени и отсутствия других кандидатур на просмотр. А вот в '\n",
      " 'прочтении книги ничего преступного не вижу, хотя особенного саморазвития вы от неё опять же не получите.')\n",
      "\n",
      "\n",
      "Actual label: negative\n",
      "Predicted label: neutral\n",
      "Probabilities :{'negative': 0.17871113713443984, 'neutral': 0.6632215395505227, 'positive': 0.1580673233150375}\n",
      "\n",
      "('Дело в том, что если бы не первая часть фильма, которая задала достаточно высокую планку для серии Мстителей - то второй фильм вышел бы годным. И '\n",
      " 'большинство батхерта (Word дружелюбно подчеркивает эту фразу и предлагает заменить ее на - бархата), так вот большинство бархата общественности касательно '\n",
      " 'фильма как раз таки связанно со сравнением второй части и первой. Что по сути верно. Вы же не думаете что, если второй сезон какого-нибудь сериала окажется '\n",
      " \"провальным то его ждет продолжение? Мое субъективное мнение говорит: 'нет'. От первой части в сиквиле остались только герои, а вернее даже альтер эго, сами \"\n",
      " \"образы, которые по какой-то причине остались не раскрыты. Конечно не все, Роберт Джон Дауни-младший в роли 'Железного человека' безупречен. Попытка \"\n",
      " 'рассказать историю Соколиного глаза так же можно назвать уместной (в приквиле фильма он остался за бортом повествования историй). Все остальные в новом кино '\n",
      " \"кажутся блеклой декорацией, которая вовремя должна хряснуть врага, а потом снова 'уйти в сумрак'. В первой части Мстителей мы видели переживания и характер \"\n",
      " 'каждого из героев при том это было сделано настолько хорошо, что человек не знакомый с оригинальными Спин-оффами прекрасно представлял себе смысл участия '\n",
      " \"всех из супер героев в этой 'сборной солянке'. Например что Кэп - достойный лидер команды. А Тони - негодует почему это не он у руля. Что Халк постоянно \"\n",
      " \"борется с самим собой, дабы не навлечь неприятности на окружающих его людей. Почему Тор помогает 'жалким людишкам' будучи богом, да даже тонюсенькая \"\n",
      " 'романтическая линия между Халком и Черной вдовой в первой части была куда более логичной, чем просто поставить зрителя перед фактом что у них роман. Как это '\n",
      " 'сделали в продолжении, при этом абсолютно ничего по этому поводу не объясняется. Дыр в сюжете многовато, я думаю многие в курсе что должна выйти '\n",
      " 'режиссерская версия фильма, с дополнительными 30 минутами сцен, возможно это исправит некоторые пробелы повествования (особенно интересно больше увидеть '\n",
      " 'Вижена как полноценного члена команды героев, а не как эпизодического персонажа). Опять же тема близнецов так и осталась не раскрытой. Зато добавились '\n",
      " \"местами нелепые и совсем не нужные диалоги 'приколы' главных героев фильма. Можно представить себя человеком в кромешной тьме, где настолько ничего не видно \"\n",
      " 'что страшно сделать шаг вперед или в сторону. Мы не знаем что нас ждет начни мы идти, возможно там пропасть? Но у нас в руке есть нить, держась за которую '\n",
      " 'можно выйти к свету не боясь пораниться. Как Тесей в лабиринте Минотавра. Так вот в фильме этой нити нет, и нас вслепую заставляют идти через события полные '\n",
      " 'экшен сцен без какого-либо ориентира, забывая о том что наш путь может оказаться нелепым и неправильным. Опять же, если бы не первая картина, то просто '\n",
      " 'тонна экшена могла бы вывезти это кино. Но зная каким он может быть с точки зрения равномерной подачи сюжета приквела - не вывозит. И да я заметил что '\n",
      " 'многие в своих рецензиях ставят оценки, по шкале до десяти. Этакий крепкий середнячок.')\n",
      "\n",
      "\n",
      "Actual label: neutral\n",
      "Predicted label: positive\n",
      "Probabilities :{'negative': 0.008548701257501214, 'neutral': 0.23279502650402767, 'positive': 0.7586562722384712}\n",
      "\n",
      "('Искупление мне очень рекомендовали к просмотру, но по скольку в выборе картин я не доверяю никому кроме себя, то сразу стала воспринимать этот фильм в '\n",
      " 'штыки.Признаюсь, я изменила свое мнение, но обо всем по порядку. Сразу хочется отметить оператора, превосходная картинка на которую просто приятно смотреть. '\n",
      " 'Виды, ландшафты, работа камеры с героями: все просто великолепно, на это можно просто смотреть и наслаждаться, что согласитесь сейчас встречается все реже и '\n",
      " 'реже. Искупление это та редкая категория фильмов которым название дается не просто так, а раскрывает саму суть картины.Оно проходит от начало до конца, '\n",
      " 'постоянно висит в воздухе, но так и не находит выхода, остается в картине. Искупление, также та редкая категория, в которой концовка выворачивает весь фильм '\n",
      " 'на изнанку, показывая саму идею картины. Она так и не набралась смелости поговорить с сестрой, с семьей,с Робби... На главной героине висит груз вины, но '\n",
      " 'она тщетно пытается его искупить. Это ужасно жить вот так, зная что ты разрушила жизнь не только самых близких тебе людей но и двух влюбленных. Касательно '\n",
      " 'актерского состава. Главное и самое острое впечатление произвела Сирша Ронан -великолепно сыгранная роль. Множество крупных планов, превосходные глаза, ни '\n",
      " 'тени сомнения, кажется что она играла саму себя, по скольку очень явно и в тоже время интересно показан персонаж. Браво. Также хочется отметить мастерство '\n",
      " 'режиссера так как на мой взгляд самое сложное в кино это не лодки, животные и дети, а временные рамки. Неимоверно трудно подобрать даже двух, а не трех '\n",
      " 'актеров на одну и ту же роль. Каждому нужно объяснить, показать, помочь превратиться в одного человека.Конечно можно позвать гримеров, но тогда это будет, '\n",
      " 'да легче, но должного эффекта не произведет. Человек меняется со временем не только внешне но и внутренне, не на много, но зритель это сразу чувствует. '\n",
      " 'Лично я поверила, что Ванесса Редгрейв, Сирша Ронан и Ромола Гараи это один человек, отягощенный грузом вины и пронесший это груз через всю свою жизнь. А '\n",
      " 'вот Кира Найтли не особо порадовала. Я считаю, она просто не справилась с ролью, хотя та была не так сложна. Джеймс МакЭвой - то же самое. Ничего '\n",
      " 'интересного я в нем как ни старалась разглядеть не смогла, да признаю, в кадре он смотрится не плохо, но вот как актер роль сильнее чем типичный герой '\n",
      " 'любовник или страдалец навряд ли потянет, хотя тут так же много зависит от режиссера. МакЭвой с Найтли идут скорее как дополнение и особого эффекта не '\n",
      " 'производят, ну что ж они еще довольно молоды, посмотрим что будет дальше. Музыка... Умм, великолепно!Именно музыка и прекрасная работа оператора создают '\n",
      " 'именно тот настрой, который нужен, затрагивают что то в душе, заставляют поверить и понять маленькую Брайони Таллис. Это фильм чем то напоминает сон. На '\n",
      " 'всем протяжении картины, она окутана какой то дымкой и только в конце зрителя нещадно выбрасывает в реальный, современный мир с его камерами, мертвым светом '\n",
      " 'софитов и бездушными ТВ шоу. Искупление это очень хорошее кино, про него я могу четко сказать: мне понравилось, и никаких отступных и ужимок. Да, оно не '\n",
      " 'идеально, но в этом и состоит его прелесть.')\n",
      "\n",
      "\n"
     ]
    }
   ],
   "source": [
    "for error_index in error_indices[:3]:\n",
    "    print(f\"Actual label: {y_test[error_index]}\")\n",
    "    print(f\"Predicted label: {pred_labels[error_index]}\")\n",
    "    print(f\"Probabilities :{y_pred[error_index]}\\n\")\n",
    "\n",
    "    pprint(X_test[error_index], width=160)\n",
    "    print(\"\\n\")"
   ]
  },
  {
   "cell_type": "markdown",
   "metadata": {},
   "source": [
    "## Explaining Predictions"
   ]
  },
  {
   "cell_type": "markdown",
   "metadata": {},
   "source": [
    "### SHAP"
   ]
  },
  {
   "cell_type": "markdown",
   "metadata": {},
   "source": [
    "https://shap.github.io/shap/notebooks/linear_explainer/Sentiment%20Analysis%20with%20Logistic%20Regression.html"
   ]
  },
  {
   "cell_type": "code",
   "execution_count": null,
   "metadata": {},
   "outputs": [],
   "source": []
  },
  {
   "cell_type": "markdown",
   "metadata": {},
   "source": [
    "## To Do"
   ]
  },
  {
   "cell_type": "markdown",
   "metadata": {},
   "source": [
    "- Follow the article https://developers.google.com/machine-learning/guides/text-classification?hl=en\n",
    "- Adding stopwords, but filter them using top-N trigrams not to loose important words\n",
    "- Saving fitted vectorizer separately (this way we can use different models on the same features)\n",
    "- Explaining predictions"
   ]
  },
  {
   "cell_type": "code",
   "execution_count": null,
   "metadata": {},
   "outputs": [],
   "source": []
  }
 ],
 "metadata": {
  "kernelspec": {
   "display_name": "venv",
   "language": "python",
   "name": "python3"
  },
  "language_info": {
   "codemirror_mode": {
    "name": "ipython",
    "version": 3
   },
   "file_extension": ".py",
   "mimetype": "text/x-python",
   "name": "python",
   "nbconvert_exporter": "python",
   "pygments_lexer": "ipython3",
   "version": "3.9.6"
  }
 },
 "nbformat": 4,
 "nbformat_minor": 4
}

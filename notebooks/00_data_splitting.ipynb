{
 "cells": [
  {
   "cell_type": "markdown",
   "id": "8f1abd1b-2fdd-46cf-81f0-92a75bc71e39",
   "metadata": {},
   "source": [
    "# Data Splitting"
   ]
  },
  {
   "cell_type": "markdown",
   "id": "7f9e4f5b-9988-48dc-8022-3202da13212b",
   "metadata": {},
   "source": [
    "In this notebook I'm splitting and saving the data for sentiment analysis"
   ]
  },
  {
   "cell_type": "markdown",
   "id": "b5a98d37-02da-4083-b540-532686f14f81",
   "metadata": {},
   "source": [
    "## Imports"
   ]
  },
  {
   "cell_type": "code",
   "execution_count": 1,
   "id": "1eff0667-a9c1-40a8-8f1a-5983d43f9b45",
   "metadata": {},
   "outputs": [],
   "source": [
    "import gc\n",
    "import os\n",
    "from pathlib import Path"
   ]
  },
  {
   "cell_type": "code",
   "execution_count": 2,
   "id": "7307df92",
   "metadata": {},
   "outputs": [],
   "source": [
    "import numpy as np\n",
    "import pandas as pd\n",
    "from sklearn.model_selection import train_test_split"
   ]
  },
  {
   "cell_type": "code",
   "execution_count": 3,
   "id": "635095b3-3879-431b-8785-21927529f96c",
   "metadata": {},
   "outputs": [],
   "source": [
    "SEED = 42"
   ]
  },
  {
   "cell_type": "markdown",
   "id": "9d2710a3-f70e-4d6f-83fd-fcd1efff9997",
   "metadata": {},
   "source": [
    "## Paths"
   ]
  },
  {
   "cell_type": "code",
   "execution_count": 4,
   "id": "0a74803b-1f29-4c52-b93f-1cfaad737fcc",
   "metadata": {},
   "outputs": [],
   "source": [
    "relative_path = os.path.join(\"../\", \"data\")"
   ]
  },
  {
   "cell_type": "code",
   "execution_count": 5,
   "id": "b56940f6-3c77-4f61-941a-a3d358cbbf73",
   "metadata": {},
   "outputs": [],
   "source": [
    "cleaned_reviews_path = os.path.join(relative_path, \"2_cleaned_reviews\")"
   ]
  },
  {
   "cell_type": "code",
   "execution_count": 6,
   "id": "3123f1b9-1cd0-4017-baba-638e01a0f45f",
   "metadata": {},
   "outputs": [],
   "source": [
    "sentiment_analysis_data_path = os.path.join(relative_path, \"3_sentiment_analysis\")\n",
    "Path(sentiment_analysis_data_path).mkdir(parents=True, exist_ok=True)"
   ]
  },
  {
   "cell_type": "markdown",
   "id": "e45ef437-a9da-4009-8ab9-26f684bfe9b7",
   "metadata": {},
   "source": [
    "## Data"
   ]
  },
  {
   "cell_type": "markdown",
   "id": "87ac0eda-b7d6-4417-bd93-dd5f21f218ee",
   "metadata": {},
   "source": [
    "### Loading data"
   ]
  },
  {
   "cell_type": "code",
   "execution_count": 7,
   "id": "157c68ab-2d3f-409f-892b-609694bf2beb",
   "metadata": {},
   "outputs": [],
   "source": [
    "reviews_df = pd.read_parquet(os.path.join(cleaned_reviews_path, \"reviews.parquet\"))\n",
    "reviews_df[\"review\"] = reviews_df[\"review\"].str.replace(\"<p>\", \" \")"
   ]
  },
  {
   "cell_type": "markdown",
   "id": "85415faf-82ea-40e8-9c7a-3e9236726f49",
   "metadata": {},
   "source": [
    "### Dataset overview"
   ]
  },
  {
   "cell_type": "code",
   "execution_count": 8,
   "id": "80312a74-120e-4cc1-8484-2c0c71c42a0e",
   "metadata": {},
   "outputs": [
    {
     "data": {
      "text/html": [
       "<div>\n",
       "<style scoped>\n",
       "    .dataframe tbody tr th:only-of-type {\n",
       "        vertical-align: middle;\n",
       "    }\n",
       "\n",
       "    .dataframe tbody tr th {\n",
       "        vertical-align: top;\n",
       "    }\n",
       "\n",
       "    .dataframe thead th {\n",
       "        text-align: right;\n",
       "    }\n",
       "</style>\n",
       "<table border=\"1\" class=\"dataframe\">\n",
       "  <thead>\n",
       "    <tr style=\"text-align: right;\">\n",
       "      <th></th>\n",
       "      <th>show_id</th>\n",
       "      <th>user_id</th>\n",
       "      <th>type</th>\n",
       "      <th>datetime</th>\n",
       "      <th>sentiment</th>\n",
       "      <th>subtitle</th>\n",
       "      <th>review</th>\n",
       "      <th>review_score</th>\n",
       "      <th>score</th>\n",
       "    </tr>\n",
       "  </thead>\n",
       "  <tbody>\n",
       "    <tr>\n",
       "      <th>31211</th>\n",
       "      <td>579</td>\n",
       "      <td>26804</td>\n",
       "      <td>movie</td>\n",
       "      <td>2019-02-16 14:28:00</td>\n",
       "      <td>positive</td>\n",
       "      <td>Обзор на фильм 'Аквамен'</td>\n",
       "      <td>Киновселенная DC, которая довольно серьезный к...</td>\n",
       "      <td>-8</td>\n",
       "      <td>10.0</td>\n",
       "    </tr>\n",
       "    <tr>\n",
       "      <th>72046</th>\n",
       "      <td>98</td>\n",
       "      <td>65761</td>\n",
       "      <td>movie</td>\n",
       "      <td>2013-02-11 22:56:00</td>\n",
       "      <td>positive</td>\n",
       "      <td>Просторы другой тональности</td>\n",
       "      <td>Не всякая карта расскажет тебе, чем богато зве...</td>\n",
       "      <td>6</td>\n",
       "      <td>9.0</td>\n",
       "    </tr>\n",
       "    <tr>\n",
       "      <th>12824</th>\n",
       "      <td>217</td>\n",
       "      <td>7758</td>\n",
       "      <td>movie</td>\n",
       "      <td>2010-07-19 15:32:00</td>\n",
       "      <td>positive</td>\n",
       "      <td>«Я была здесь лишь один момент, а потом меня н...</td>\n",
       "      <td>Этот фильм долго пылился на жестком диске и вч...</td>\n",
       "      <td>8</td>\n",
       "      <td>10.0</td>\n",
       "    </tr>\n",
       "    <tr>\n",
       "      <th>203242</th>\n",
       "      <td>742</td>\n",
       "      <td>56263</td>\n",
       "      <td>series</td>\n",
       "      <td>2016-09-22 18:20:00</td>\n",
       "      <td>positive</td>\n",
       "      <td>Между мыслью и реальностью, между движением и ...</td>\n",
       "      <td>Что могу сказать... Никогда не любила сериал п...</td>\n",
       "      <td>-4</td>\n",
       "      <td>NaN</td>\n",
       "    </tr>\n",
       "    <tr>\n",
       "      <th>199423</th>\n",
       "      <td>643</td>\n",
       "      <td>33423</td>\n",
       "      <td>series</td>\n",
       "      <td>2010-11-19 15:28:00</td>\n",
       "      <td>positive</td>\n",
       "      <td>Пацаны смотрят вдаль и верят,  но трамвай не е...</td>\n",
       "      <td>О сериале 'Реальные пацаны' узнал еще летом. К...</td>\n",
       "      <td>66</td>\n",
       "      <td>9.0</td>\n",
       "    </tr>\n",
       "    <tr>\n",
       "      <th>125237</th>\n",
       "      <td>844</td>\n",
       "      <td>1885</td>\n",
       "      <td>movie</td>\n",
       "      <td>2015-06-04 17:19:00</td>\n",
       "      <td>positive</td>\n",
       "      <td>Сдох твой Бобик, Джонни!</td>\n",
       "      <td>Нюквисту – «Оскар»! (Тому самому, из шведской ...</td>\n",
       "      <td>9</td>\n",
       "      <td>NaN</td>\n",
       "    </tr>\n",
       "    <tr>\n",
       "      <th>165963</th>\n",
       "      <td>495</td>\n",
       "      <td>8245</td>\n",
       "      <td>movie</td>\n",
       "      <td>2010-01-14 02:45:00</td>\n",
       "      <td>positive</td>\n",
       "      <td>И колокола в финале...</td>\n",
       "      <td>Странные я испытал эмоции при просмотре этой л...</td>\n",
       "      <td>10</td>\n",
       "      <td>10.0</td>\n",
       "    </tr>\n",
       "    <tr>\n",
       "      <th>61509</th>\n",
       "      <td>263</td>\n",
       "      <td>58981</td>\n",
       "      <td>movie</td>\n",
       "      <td>2020-02-23 21:14:00</td>\n",
       "      <td>positive</td>\n",
       "      <td>О том, как легко служит злу. и трудно - добру</td>\n",
       "      <td>В сравнение с другими гангстерскими лентами Ск...</td>\n",
       "      <td>7</td>\n",
       "      <td>NaN</td>\n",
       "    </tr>\n",
       "    <tr>\n",
       "      <th>132535</th>\n",
       "      <td>63</td>\n",
       "      <td>22230</td>\n",
       "      <td>movie</td>\n",
       "      <td>2012-02-27 17:39:00</td>\n",
       "      <td>positive</td>\n",
       "      <td>Всё есть число? (Амбициозная Miss Danity захот...</td>\n",
       "      <td>А знаете, этот фильм стоит смотреть одному. Чт...</td>\n",
       "      <td>3</td>\n",
       "      <td>9.0</td>\n",
       "    </tr>\n",
       "    <tr>\n",
       "      <th>60474</th>\n",
       "      <td>706</td>\n",
       "      <td>48935</td>\n",
       "      <td>movie</td>\n",
       "      <td>2014-02-23 18:31:00</td>\n",
       "      <td>positive</td>\n",
       "      <td>'Джанго' наоборот.</td>\n",
       "      <td>Итак, для начала статистика. Данная картина бы...</td>\n",
       "      <td>0</td>\n",
       "      <td>9.0</td>\n",
       "    </tr>\n",
       "  </tbody>\n",
       "</table>\n",
       "</div>"
      ],
      "text/plain": [
       "        show_id  user_id    type            datetime sentiment  \\\n",
       "31211       579    26804   movie 2019-02-16 14:28:00  positive   \n",
       "72046        98    65761   movie 2013-02-11 22:56:00  positive   \n",
       "12824       217     7758   movie 2010-07-19 15:32:00  positive   \n",
       "203242      742    56263  series 2016-09-22 18:20:00  positive   \n",
       "199423      643    33423  series 2010-11-19 15:28:00  positive   \n",
       "125237      844     1885   movie 2015-06-04 17:19:00  positive   \n",
       "165963      495     8245   movie 2010-01-14 02:45:00  positive   \n",
       "61509       263    58981   movie 2020-02-23 21:14:00  positive   \n",
       "132535       63    22230   movie 2012-02-27 17:39:00  positive   \n",
       "60474       706    48935   movie 2014-02-23 18:31:00  positive   \n",
       "\n",
       "                                                 subtitle  \\\n",
       "31211                            Обзор на фильм 'Аквамен'   \n",
       "72046                         Просторы другой тональности   \n",
       "12824   «Я была здесь лишь один момент, а потом меня н...   \n",
       "203242  Между мыслью и реальностью, между движением и ...   \n",
       "199423  Пацаны смотрят вдаль и верят,  но трамвай не е...   \n",
       "125237                           Сдох твой Бобик, Джонни!   \n",
       "165963                             И колокола в финале...   \n",
       "61509       О том, как легко служит злу. и трудно - добру   \n",
       "132535  Всё есть число? (Амбициозная Miss Danity захот...   \n",
       "60474                                  'Джанго' наоборот.   \n",
       "\n",
       "                                                   review  review_score  score  \n",
       "31211   Киновселенная DC, которая довольно серьезный к...            -8   10.0  \n",
       "72046   Не всякая карта расскажет тебе, чем богато зве...             6    9.0  \n",
       "12824   Этот фильм долго пылился на жестком диске и вч...             8   10.0  \n",
       "203242  Что могу сказать... Никогда не любила сериал п...            -4    NaN  \n",
       "199423  О сериале 'Реальные пацаны' узнал еще летом. К...            66    9.0  \n",
       "125237  Нюквисту – «Оскар»! (Тому самому, из шведской ...             9    NaN  \n",
       "165963  Странные я испытал эмоции при просмотре этой л...            10   10.0  \n",
       "61509   В сравнение с другими гангстерскими лентами Ск...             7    NaN  \n",
       "132535  А знаете, этот фильм стоит смотреть одному. Чт...             3    9.0  \n",
       "60474   Итак, для начала статистика. Данная картина бы...             0    9.0  "
      ]
     },
     "execution_count": 8,
     "metadata": {},
     "output_type": "execute_result"
    }
   ],
   "source": [
    "reviews_df.sample(n=10, random_state=SEED)"
   ]
  },
  {
   "cell_type": "markdown",
   "id": "84496901-ac40-4b0c-a553-ec88b1fd626a",
   "metadata": {},
   "source": [
    "### Looking at reviews"
   ]
  },
  {
   "cell_type": "code",
   "execution_count": 9,
   "id": "f8a0df4e-6a96-435b-b89d-a8a66fb8684a",
   "metadata": {},
   "outputs": [
    {
     "name": "stdout",
     "output_type": "stream",
     "text": [
      "Киновселенная DC, которая довольно серьезный конкурент Marvel выпустила очередной фильм. Фильм очень динамичный и насыщен экшеном. Есть моменты, которые не особо понятны, например откуда взялась царица 'Атланты', почему ее выкинуло на берег, откуда взялись пираты на подводной лодке. Непонятно, почему многие пишут, что сценарий слабый, все очень логично и понятно - Царь полукровка 'Аквамен', который должен объединить море и сушу, на это он и полукровка, что среднее между двумя мирами! Также замечу, что и реально отличный юмор присутствует, а юмор отлично разбавляет нудное общение, как и бывает во многих фильмах. Спецэффекты очень качественные, но и присутствует природная красота городов на берегу океана, что сразу хочется оказаться там. Конечно хочется, чтобы не все в фильмах было так прекрасно как здесь, но и какой-нибудь негатив оставался! В целом фильм на 9, не без недостатков, но опустим их и округлим число до 10.\n",
      "\n",
      "\n",
      "Не всякая карта расскажет тебе, чем богато звездное небо, оно может только предположить, дать некое базисное введение, пусковую информацию, на сам то перед это нечто большее, то, что мы пытаемся разглядеть, пролистать в своем воображении, как справочник и запомнить, зафиксировать, но нам кажется, что чего-то не хватает, что-то еще мы не сумели познать. Наше представление о небе - это только часть того, с чем нам еще придется столкнуться, что нам еще придется разузнать при прохождении полного курса научных исследований, даже просто читая популяризаторские заметки о проведенных проверках или же окончательных суммаризаций данного исследования, это тоже некий компонент изучаемого нами  материала, который мы тоже стараемся не забыть. Мы словно разрабатываем свою карту звездного неба, свой безграничный сакральный атлас Вселенной, структуру космической сферы, гравитационное поле, притяжение к атмосферному полю Земли, мы будто бы хотим постигнуть еще большего, поэтому нам так хочется добраться до этой точки, за которой мы наблюдаем, глядя в телескоп спокойной июньской ночью, без сна, напряженно выискивая какой-то летающий объект, какое-то кольцо вблизи планет, а то и вокруг них, мы так хотим приблизиться к этому, что порой даже хотим услышать, какие сигналы посылает нам космос, что он передает нам, на каких частотах мы можем его слышать, если у нас даже нет специальных современных устройств. Кто знает, может, нам придется общаться с небом на одной волне, не настраивая при этом антенну на крыше, чтобы не было помех. Поэтому нам нужно найти с ним общий контакт.   Нам всегда было интересно, а что мы можем найти в этом пространственном аквариуме, бездонном и беспокойном, чем он так привлек наше внимание, как он действует нам не во вред, можем ли мы прикоснуться к его сотканной из миллиона темно-фиолетовых ниток материи - это все только наше рассуждение, мы не можем проверить это, хотя пытались много раз, но как это заканчивалось? Словно охраняя нас, он тем же и угрожает нашей безопасности, будто управляя всей созданной им конструкцией, которую может разрушить, может и укрепить, в зависимости от его предпочтений. Мы можем подумать, что и им управляют тоже, что и его тоже можно изменить, только мы не знаем, кто это, и как мы можем их найти, если тоже нужно найти с ними общее целое единство.  Режиссер Роберт Земекис берет за основную концептуальную тематику своих новых проектов после ошеломительного успеха картины 'Форрест Гамп'  монобиографическую конкретизированную иллюстрацию отдельных героев, чаще одного героя, и оживляет ее настолько, что она становится постановочной классовой работой нового уровня, техническим прогрессом игровой индустрии, а также и некоторым героизмом, воле к победе, к совершенству, к познанию людского великолепия и природной роскоши, так и данный фильм позволяет ощутить всю атмосферу новых открытий, секретов других миров, опасностей и избежания их, и тут тоже не обойти проблему открытия в себе человека, секретов его души, опасностей, которые он мог избежать, и что ему еще предстоит пройти. За человеколюбие и его моральную надежную опору американскому режиссеру восклицаю 'отличная работа!'.   Одна из моих любимых актрис Джоди Фостер должна открыть в себе того человека, готового найти контакт с неземным бытием, вернее, она уже открыла в себе такого исследователя, который стоит только на том, что он видит, никогда не сдается, доверяет только своим инстинктам, так она пытается разгадать тайну небесного свечения и звуковых колебательных процессов, чем интересовалась с детства, что ее еще интересовало давно, когда она впервые увидела небо, как и ее отец, прививший ей это занятие. Так и ее новый друг (Мэттью МакКонахи) хотел разгадать эту тайну, и он даже не не догадывался о том, что людям еще не известно о космосе, как и тому сообществу, которому Элли и Палмер пытаются что-то доказать, представить в виде своих исследований, и, наконец, удостовериться, правы ли они сами в своих предположениях. Я больше бы выделил игру Фостер как одну из самых гуманных и смелых актрис американского кинематографа, отмечу и ее отличную работу в данной картине.  Подключите свои каналы на нужную радиоволну, следите за курсором на датчиках, светящимся лампочках на приборах, подождите немного, что вы заметите: кто-то до сих пор подает сигналы, какие, что они значат, откуда конкретно исходит, может, кто-то специально их посылает, но зачем. Даже мы не в силах объяснить что это, но мы можем представить, изобразить это в своем отображении, наблюдая за небесными переливами, каждый раз меняющими цвет и остающимися такими безвестными, пока мы снова не сможем услышать их, проследить за ними, а, может, устремиться еще дальше, где нет реальных пределов, где только существуют иные просторы другой тональности и другой фрагментации, еще дальше...!\n",
      "\n",
      "\n",
      "Этот фильм долго пылился на жестком диске и вчера я все-таки собрался с духом, чтобы посмотреть его. И не жалею об этом! Сьюзи Сэлмон - девочка-подросток у который вся жизнь впереди. Она, как и все ходит в школу, увлекается чем-нибудь (у нее это - фото), и как любой подросток мечтает о любви. Но все это рушится в один миг. 6 декабря 1973 года она была убита. После смерти она попадает в мир, находящийся между Землей и Раем (Этот мир прекрасно передан Питером Джексоном, его не стоит описывать, сами увидите, когда посмотрите фильм). До конца фильма она остается где-то в междумирье и наблюдает за своей семьей, не в силах покинуть ее. Смотря этот фильм, я пережил эти 2 часа с семьей Сэлмонов. Я видел, как они страдали от своего горя. Я переживал вместе с ними, мне было тяжело, когда им было тяжело. Мне хотелось помочь им. Но я сидел по ту сторону экрана, нежели они. Несмотря на то, что в фильме говорится об ужасных событиях, он - добрый. Фильм пропитан добротой и любовью. Все время фильм держал меня в напряжении. Когда Сьюзи пошла в 'Домик. куда нельзя взрослым',  когда отец бил бутылки с кораблями, я спрашивал: 'Зачем??? Ты же делал это вместе со Сьюзи, это же память о ней!'. Или когда сестра Сьюзи пробралась в дом маньяка и искала улики. Что же сказать об игре актеров? Ничего, только одно слово - БРАААВО!!! Скажу лишь о главной героине - Сьюзи Сэлмон (Сирша Ронан). Сирша Ронан - no comments! Она прекрасна передала страх, ненависть, радость и грусть. А ее взгляд - он прекрасен! Ей сразу начинаешь верить, как только видишь ее взгляд. Она могла не говорить, по ее глазам можно прочитать ее чувства и мысли. Надеюсь, что у нее все получится в будущем. Желаю ей успеха! В принципе все. Остались последние штрихи. Книгу я не читал, но обязательно приобрету и прочту ее.  Но все же в этой рецензии я так и не смог передать все эмоции и чувства, которые оставила мне эта картина! А их уйма. Посмотрите и вы все сами увидите и почувствуйте! Спасибо, Питер Джексон!\n",
      "\n",
      "\n"
     ]
    }
   ],
   "source": [
    "for review in reviews_df.sample(n=10, random_state=SEED)[\"review\"].values[:3]:\n",
    "    print(review.replace(\"<p>\", \"\\n\"))\n",
    "    print(\"\\n\")"
   ]
  },
  {
   "cell_type": "markdown",
   "id": "e9115eb2-13d3-4415-ae4a-d51500a9b185",
   "metadata": {},
   "source": [
    "In the previous step I've removed the scores from the reviews, so it is now safe to continue with baseline model creation."
   ]
  },
  {
   "cell_type": "markdown",
   "id": "fe4f2b9b-94ba-48e3-875a-fd8fd30122e0",
   "metadata": {},
   "source": [
    "### Selecting needed columns"
   ]
  },
  {
   "cell_type": "code",
   "execution_count": 10,
   "id": "7dd39187",
   "metadata": {},
   "outputs": [],
   "source": [
    "class_col = \"label\"\n",
    "text_col = \"text\""
   ]
  },
  {
   "cell_type": "markdown",
   "id": "1e5d231f-88c3-4a2b-ba67-d48921e87aac",
   "metadata": {},
   "source": [
    "For baseline model we're interested only in `sentiment` and `review_body` columns"
   ]
  },
  {
   "cell_type": "code",
   "execution_count": 11,
   "id": "62d90aab-fac9-4ad7-894d-3e1fd6d5febe",
   "metadata": {},
   "outputs": [],
   "source": [
    "df = reviews_df[[\"sentiment\", \"review\"]]\n",
    "df = df.rename(columns={\"sentiment\":class_col, \"review\":text_col})"
   ]
  },
  {
   "cell_type": "code",
   "execution_count": 12,
   "id": "eb0581ab-388b-4775-a4dd-7b7aaa82258e",
   "metadata": {},
   "outputs": [
    {
     "data": {
      "text/plain": [
       "0"
      ]
     },
     "execution_count": 12,
     "metadata": {},
     "output_type": "execute_result"
    }
   ],
   "source": [
    "del reviews_df\n",
    "gc.collect()"
   ]
  },
  {
   "cell_type": "markdown",
   "id": "09a7dc31-614d-4e35-83ff-2b9ecc7beb2a",
   "metadata": {},
   "source": [
    "### Splitting the data"
   ]
  },
  {
   "cell_type": "code",
   "execution_count": 13,
   "id": "5232a4f5-532e-4bca-acf2-b17512dee56e",
   "metadata": {},
   "outputs": [
    {
     "data": {
      "text/plain": [
       "((175556, 2), (15490, 2), (15491, 2))"
      ]
     },
     "execution_count": 13,
     "metadata": {},
     "output_type": "execute_result"
    }
   ],
   "source": [
    "train_df, test_dev_df = train_test_split(\n",
    "    df, test_size=0.15, random_state=SEED, stratify=df[class_col]\n",
    ")\n",
    "\n",
    "test_df, dev_df = train_test_split(\n",
    "    test_dev_df, test_size=0.5, random_state=SEED, stratify=test_dev_df[class_col]\n",
    ")\n",
    "\n",
    "train_df.shape, test_df.shape, dev_df.shape"
   ]
  },
  {
   "cell_type": "code",
   "execution_count": 14,
   "id": "480eac55-dc69-4397-87d6-c72103d6869e",
   "metadata": {},
   "outputs": [
    {
     "data": {
      "text/plain": [
       "positive    0.720272\n",
       "neutral     0.150026\n",
       "negative    0.129702\n",
       "Name: label, dtype: float64"
      ]
     },
     "execution_count": 14,
     "metadata": {},
     "output_type": "execute_result"
    }
   ],
   "source": [
    "train_df[class_col].value_counts(normalize=True)"
   ]
  },
  {
   "cell_type": "code",
   "execution_count": 15,
   "id": "42e4e56b-808f-4ccf-a779-bc1511a08f06",
   "metadata": {},
   "outputs": [
    {
     "data": {
      "text/plain": [
       "positive    0.720271\n",
       "neutral     0.150032\n",
       "negative    0.129697\n",
       "Name: label, dtype: float64"
      ]
     },
     "execution_count": 15,
     "metadata": {},
     "output_type": "execute_result"
    }
   ],
   "source": [
    "test_df[class_col].value_counts(normalize=True)"
   ]
  },
  {
   "cell_type": "code",
   "execution_count": 16,
   "id": "e6bbca44",
   "metadata": {},
   "outputs": [
    {
     "data": {
      "text/plain": [
       "positive    0.720289\n",
       "neutral     0.150023\n",
       "negative    0.129688\n",
       "Name: label, dtype: float64"
      ]
     },
     "execution_count": 16,
     "metadata": {},
     "output_type": "execute_result"
    }
   ],
   "source": [
    "dev_df[class_col].value_counts(normalize=True)"
   ]
  },
  {
   "attachments": {},
   "cell_type": "markdown",
   "id": "a86e9cc5-fff6-41cb-a01c-aaabf9bf3ca5",
   "metadata": {},
   "source": [
    "## Saving data"
   ]
  },
  {
   "cell_type": "code",
   "execution_count": 17,
   "id": "bb5b99a7",
   "metadata": {},
   "outputs": [],
   "source": [
    "LABEL_MAP = {\"negative\": 0, \"neutral\": 1, \"positive\": 2}"
   ]
  },
  {
   "attachments": {},
   "cell_type": "markdown",
   "id": "8f8f39c4",
   "metadata": {},
   "source": [
    "## Whole Dataset"
   ]
  },
  {
   "cell_type": "code",
   "execution_count": 18,
   "id": "20738ea4-b73a-4001-849a-bf7ef1b758a2",
   "metadata": {},
   "outputs": [],
   "source": [
    "train_df[\"fold\"] = \"train\"\n",
    "test_df[\"fold\"] = \"test\"\n",
    "dev_df[\"fold\"] = \"dev\""
   ]
  },
  {
   "cell_type": "code",
   "execution_count": 19,
   "id": "614086e0-155c-4ae5-b92b-8fd0eb1f687d",
   "metadata": {},
   "outputs": [
    {
     "name": "stdout",
     "output_type": "stream",
     "text": [
      "<class 'pandas.core.frame.DataFrame'>\n",
      "RangeIndex: 206537 entries, 0 to 206536\n",
      "Data columns (total 3 columns):\n",
      " #   Column  Non-Null Count   Dtype   \n",
      "---  ------  --------------   -----   \n",
      " 0   label   206537 non-null  category\n",
      " 1   text    206537 non-null  object  \n",
      " 2   fold    206537 non-null  object  \n",
      "dtypes: category(1), object(2)\n",
      "memory usage: 3.3+ MB\n"
     ]
    }
   ],
   "source": [
    "data = pd.concat([train_df, test_df, dev_df]).reset_index(drop=True)\n",
    "data.info()"
   ]
  },
  {
   "cell_type": "code",
   "execution_count": 20,
   "id": "8bf695f2",
   "metadata": {},
   "outputs": [],
   "source": [
    "data.to_parquet(os.path.join(sentiment_analysis_data_path, \"split_reviews.parquet\"))"
   ]
  },
  {
   "attachments": {},
   "cell_type": "markdown",
   "id": "8af0ae48",
   "metadata": {},
   "source": [
    "### Separate splits"
   ]
  },
  {
   "cell_type": "code",
   "execution_count": null,
   "id": "b8395244",
   "metadata": {},
   "outputs": [],
   "source": [
    "train_df[class_col] = train_df[class_col].map(LABEL_MAP)\n",
    "dev_df[class_col] = dev_df[class_col].map(LABEL_MAP)\n",
    "test_df[class_col] = test_df[class_col].map(LABEL_MAP)"
   ]
  },
  {
   "cell_type": "code",
   "execution_count": null,
   "id": "8fb8856e",
   "metadata": {},
   "outputs": [],
   "source": [
    "train_df.drop(\"fold\", axis=1).to_parquet(\n",
    "    os.path.join(sentiment_analysis_data_path, \"train.parquet\"),\n",
    "    index=False,\n",
    ")\n",
    "dev_df.drop(\"fold\", axis=1).to_parquet(\n",
    "    os.path.join(sentiment_analysis_data_path, \"validation.parquet\"),\n",
    "    index=False,\n",
    ")\n",
    "test_df.drop(\"fold\", axis=1).to_parquet(\n",
    "    os.path.join(sentiment_analysis_data_path, \"test.parquet\"),\n",
    "    index=False,\n",
    ")"
   ]
  },
  {
   "cell_type": "code",
   "execution_count": null,
   "id": "88996c02",
   "metadata": {},
   "outputs": [],
   "source": []
  }
 ],
 "metadata": {
  "kernelspec": {
   "display_name": "shows_sentiment_analysis",
   "language": "python",
   "name": "shows_sentiment_analysis"
  },
  "language_info": {
   "codemirror_mode": {
    "name": "ipython",
    "version": 3
   },
   "file_extension": ".py",
   "mimetype": "text/x-python",
   "name": "python",
   "nbconvert_exporter": "python",
   "pygments_lexer": "ipython3",
   "version": "3.8.16"
  },
  "vscode": {
   "interpreter": {
    "hash": "2fc695378595f3e48db11f69abbf7a44c0bf6d3915fc4cddfa1186eec08a80f0"
   }
  }
 },
 "nbformat": 4,
 "nbformat_minor": 5
}
